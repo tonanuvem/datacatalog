{
 "cells": [
  {
   "cell_type": "markdown",
   "id": "42f9c661",
   "metadata": {},
   "source": [
    "# TRABALHO: DATA QUALITY\n",
    "\n",
    "## Testes de Qualidade de Dados"
   ]
  },
  {
   "cell_type": "markdown",
   "id": "27e84606",
   "metadata": {},
   "source": [
    "### Introdução\n",
    "\n",
    "Apresentamos neste trabalho um conjunto básico de testes essenciais, focando em ausência de dados (nulls), conformidade de esquema, volume e intervalos de valores. O desafio propõe que os ALUNOS evoluam para testes mais específicos, como validação de valores (finitos, numéricos, de data/hora e de formato), verificação de unicidade e testes de integridade referencial, para obter alertas informativos e contextuais. Finalmente, estes testes poderiam ser incorporados ao Pipeline de Dados para garantia de qualidade."
   ]
  },
  {
   "cell_type": "markdown",
   "id": "e0d9d5a5",
   "metadata": {},
   "source": [
    "## ** ATENÇÃO **\n",
    "\n",
    "Este notebook serve apenas um propósito educativo."
   ]
  },
  {
   "cell_type": "code",
   "execution_count": 19,
   "id": "7840903c",
   "metadata": {},
   "outputs": [],
   "source": [
    "# Em seguida iremos importar diversas bibliotecas que serão utilizadas:\n",
    "\n",
    "# Pacote para trabalhar com JSON\n",
    "import json\n",
    "\n",
    "# Pacote para realizar requisições HTTP\n",
    "import requests\n",
    "\n",
    "# Pacote para exploração e análise de dados\n",
    "import pandas as pd\n",
    "\n",
    "# Pacote com métodos numéricos e representações matriciais\n",
    "import numpy as np\n",
    "\n",
    "# Pacotes do scikit-learn para pré-processamento de dados\n",
    "# \"SimpleImputer\" é uma transformação para preencher valores faltantes em conjuntos de dados\n",
    "from sklearn.impute import SimpleImputer\n",
    "\n",
    "# Pacotes do scikit-learn para treinamento de modelos e construção de pipelines\n",
    "# Método para separação de conjunto de dados em amostras de treino e teste\n",
    "from sklearn.model_selection import train_test_split\n",
    "# Método para criação de modelos baseados em árvores de decisão\n",
    "from sklearn.tree import DecisionTreeClassifier\n",
    "# Classe para a criação de uma pipeline de machine-learning\n",
    "from sklearn.pipeline import Pipeline\n",
    "\n",
    "# Pacotes do scikit-learn para avaliação de modelos\n",
    "# Métodos para validação cruzada do modelo criado\n",
    "from sklearn.model_selection import KFold, cross_validate\n",
    "from sklearn.metrics import accuracy_score"
   ]
  },
  {
   "cell_type": "code",
   "execution_count": 20,
   "id": "4531e5ab",
   "metadata": {},
   "outputs": [
    {
     "name": "stdout",
     "output_type": "stream",
     "text": [
      "Dados originais carregados:\n",
      "   MATRICULA                       NOME  REPROVACOES_MAT_1  REPROVACOES_MAT_2  \\\n",
      "0     502375          Márcia Illiglener                  0                  0   \n",
      "1     397093   Jason Jytereoman Izoimum                  0                  0   \n",
      "2     915288  Bartolomeu Inácio da Gama                  0                  0   \n",
      "3     192652            Fernanda Guedes                  1                  3   \n",
      "4     949491     Alessandre Borba Gomes                  1                  3   \n",
      "\n",
      "   REPROVACOES_MAT_3  REPROVACOES_MAT_4  NOTA_MAT_1  NOTA_MAT_2  NOTA_MAT_3  \\\n",
      "0                  0                  0         6.2         5.8         4.6   \n",
      "1                  0                  0         6.0         6.2         5.2   \n",
      "2                  0                  0         7.3         6.7         7.1   \n",
      "3                  1                  1         0.0         0.0         0.0   \n",
      "4                  1                  1         0.0         0.0         0.0   \n",
      "\n",
      "   NOTA_MAT_4  INGLES  H_AULA_PRES  TAREFAS_ONLINE  FALTAS       PERFIL  \n",
      "0         5.9     0.0            2               4       3      REGULAR  \n",
      "1         4.5     1.0            2               4       3      REGULAR  \n",
      "2         7.2     0.0            5               0       3          BOM  \n",
      "3         0.0     1.0            4               4       4  DIFICULDADE  \n",
      "4         0.0     1.0            5               2       5  DIFICULDADE  \n",
      "\n",
      "Informações iniciais do DataFrame:\n",
      "<class 'pandas.core.frame.DataFrame'>\n",
      "RangeIndex: 199 entries, 0 to 198\n",
      "Data columns (total 15 columns):\n",
      " #   Column             Non-Null Count  Dtype  \n",
      "---  ------             --------------  -----  \n",
      " 0   MATRICULA          199 non-null    int64  \n",
      " 1   NOME               199 non-null    object \n",
      " 2   REPROVACOES_MAT_1  199 non-null    int64  \n",
      " 3   REPROVACOES_MAT_2  199 non-null    int64  \n",
      " 4   REPROVACOES_MAT_3  199 non-null    int64  \n",
      " 5   REPROVACOES_MAT_4  199 non-null    int64  \n",
      " 6   NOTA_MAT_1         199 non-null    float64\n",
      " 7   NOTA_MAT_2         199 non-null    float64\n",
      " 8   NOTA_MAT_3         199 non-null    float64\n",
      " 9   NOTA_MAT_4         162 non-null    float64\n",
      " 10  INGLES             162 non-null    float64\n",
      " 11  H_AULA_PRES        199 non-null    int64  \n",
      " 12  TAREFAS_ONLINE     199 non-null    int64  \n",
      " 13  FALTAS             199 non-null    int64  \n",
      " 14  PERFIL             199 non-null    object \n",
      "dtypes: float64(5), int64(8), object(2)\n",
      "memory usage: 23.4+ KB\n"
     ]
    }
   ],
   "source": [
    "# LE O DATASET COMO UM PANDAS DATAFRAME.\n",
    "# Certifique-se de que o arquivo 'curso.csv' está no mesmo diretório que este notebook,\n",
    "# ou forneça o caminho completo para o arquivo.\n",
    "try:\n",
    "    df_data_1 = pd.read_csv('curso.txt')\n",
    "except FileNotFoundError:\n",
    "    print(\"Arquivo 'curso.csv' não encontrado. Verifique o caminho e o nome do arquivo.\")\n",
    "    # Você pode querer interromper a execução ou carregar dados de exemplo aqui\n",
    "    # Por exemplo, criar um DataFrame vazio para evitar erros subsequentes:\n",
    "    df_data_1 = pd.DataFrame()\n",
    "\n",
    "if not df_data_1.empty:\n",
    "    print(\"Dados originais carregados:\")\n",
    "    print(df_data_1.head())\n",
    "    print(\"\\nInformações iniciais do DataFrame:\")\n",
    "    df_data_1.info()"
   ]
  },
  {
   "cell_type": "markdown",
   "id": "9a17e1ad",
   "metadata": {},
   "source": [
    "Temos 15 colunas presentes no dataset fornecido, sendo a maioria delas variáveis características (dados de entrada) e uma delas uma variável-alvo (que queremos que o nosso modelo seja capaz de prever). \n",
    "\n",
    "As variáveis características são:\n",
    "\n",
    "    MATRICULA          - número de matrícula do estudante\n",
    "    NOME               - nome completo do estudante\n",
    "    REPROVACOES_MAT_1  - número de reprovações na disciplina MAT_1\n",
    "    REPROVACOES_MAT_2  - número de reprovações na disciplina MAT_2\n",
    "    REPROVACOES_MAT_3  - número de reprovações na disciplina MAT_3\n",
    "    REPROVACOES_MAT_4  - número de reprovações na disciplina MAT_4\n",
    "    NOTA_MAT_1         - média simples das notas do aluno na disciplina MAT_1 (0-10)\n",
    "    NOTA_MAT_2         - média simples das notas do aluno na disciplina MAT_2 (0-10)\n",
    "    NOTA_MAT_3         - média simples das notas do aluno na disciplina MAT_3 (0-10)\n",
    "    NOTA_MAT_4         - média simples das notas do aluno na disciplina MAT_4 (0-10)\n",
    "    INGLES             - indica se o estudante tem conhecimento em língua inglesa (0 -> não, 1 -> sim, NaN -> não informado)\n",
    "    H_AULA_PRES        - horas de estudo presencial realizadas pelo estudante\n",
    "    TAREFAS_ONLINE     - número de tarefas online entregues pelo estudante\n",
    "    FALTAS             - número de faltas acumuladas do estudante (todas disciplinas)\n",
    "    \n",
    "A variável-alvo é:\n",
    "\n",
    "    PERFIL               - uma *string* que indica uma de cinco possibilidades: \n",
    "        \"EXCELENTE\"      - Estudante não necessita de mentoria\n",
    "        \"MUITO BOM\"      - Estudante não necessita de mentoria\n",
    "        \"BOM\"            - Estudante não necessita de mentoria\n",
    "        \"REGULAR\"        - Estudante necessita de mentoria em algumas matérias\n",
    "        \"DIFICULDADE\"    - Estudante necessita de mentoria em várias disciplinas\n",
    "        \n",
    "Com um modelo capaz de classificar um estudante em uma dessas categorias, podemos automatizar parte da mentoria estudantil através de assistentes virtuais, que serão capazes de recomendar práticas de estudo e conteúdo personalizado com base nas necessidades de cada aluno."
   ]
  },
  {
   "cell_type": "markdown",
   "id": "5e5e7ba6",
   "metadata": {},
   "source": [
    "## TESTES DE QUALIDADE INICIAIS (Após Carga)\n",
    "\n",
    "# ALUNOS: completar as células abaixo com testes para os dados brutos (df_data_1)."
   ]
  },
  {
   "cell_type": "markdown",
   "id": "a203aa8b",
   "metadata": {},
   "source": [
    "--------------------------------------------------------------------------------\n",
    "**Testes de Qualidade dos Dados - Etapa Inicial (Após Carga em `df_data_1`)**\n",
    "\n",
    "**a) TESTES DE SCHEMA**\n",
    "\n",
    "* **Objetivo:** Verificar se as colunas esperadas estão presentes, com os nomes e tipos de dados corretos. Mudanças de schema são problemas comuns.\n",
    "* **Instrução para o Aluno:** Verifiquem se as colunas originais do arquivo `curso.csv` foram carregadas corretamente em `df_data_1` e se os tipos de dados inferidos pelo pandas fazem sentido para cada coluna."
   ]
  },
  {
   "cell_type": "code",
   "execution_count": 21,
   "id": "96d267f6",
   "metadata": {},
   "outputs": [
    {
     "name": "stdout",
     "output_type": "stream",
     "text": [
      "\n",
      "Verificação de Schema em df_data_1:\n",
      "Nomes das colunas: ['MATRICULA', 'NOME', 'REPROVACOES_MAT_1', 'REPROVACOES_MAT_2', 'REPROVACOES_MAT_3', 'REPROVACOES_MAT_4', 'NOTA_MAT_1', 'NOTA_MAT_2', 'NOTA_MAT_3', 'NOTA_MAT_4', 'INGLES', 'H_AULA_PRES', 'TAREFAS_ONLINE', 'FALTAS', 'PERFIL']\n",
      "Tipos de dados:\n",
      " MATRICULA              int64\n",
      "NOME                  object\n",
      "REPROVACOES_MAT_1      int64\n",
      "REPROVACOES_MAT_2      int64\n",
      "REPROVACOES_MAT_3      int64\n",
      "REPROVACOES_MAT_4      int64\n",
      "NOTA_MAT_1           float64\n",
      "NOTA_MAT_2           float64\n",
      "NOTA_MAT_3           float64\n",
      "NOTA_MAT_4           float64\n",
      "INGLES               float64\n",
      "H_AULA_PRES            int64\n",
      "TAREFAS_ONLINE         int64\n",
      "FALTAS                 int64\n",
      "PERFIL                object\n",
      "dtype: object\n",
      "\n",
      "Todas as colunas essenciais estão presentes: True\n",
      "Testes de schema básicos passaram (verifique os asserts descomentados e adaptados).\n"
     ]
    }
   ],
   "source": [
    "print(\"\\nVerificação de Schema em df_data_1:\")\n",
    "if not df_data_1.empty:\n",
    "    print(\"Nomes das colunas:\", df_data_1.columns.tolist())\n",
    "    print(\"Tipos de dados:\\n\", df_data_1.dtypes)\n",
    "\n",
    "    # Aluno: Adicione verificações mais específicas, como checar se colunas essenciais existem\n",
    "    colunas_essenciais = ['MATRICULA', 'NOME', 'REPROVACOES_MAT_1', 'REPROVACOES_MAT_2', \n",
    "                           'REPROVACOES_MAT_3', 'REPROVACOES_MAT_4', 'NOTA_MAT_1', 'NOTA_MAT_2', \n",
    "                           'NOTA_MAT_3', 'NOTA_MAT_4', 'INGLES', 'H_AULA_PRES', \n",
    "                           'TAREFAS_ONLINE', 'FALTAS', 'PERFIL']\n",
    "    todas_presentes = all(item in df_data_1.columns for item in colunas_essenciais)\n",
    "    print(f\"\\nTodas as colunas essenciais estão presentes: {todas_presentes}\")\n",
    "    assert todas_presentes, \"Falha: Nem todas as colunas essenciais estão presentes.\"\n",
    "\n",
    "    # Aluno: Adicione asserts ou checagens de tipos específicos para colunas importantes.\n",
    "    # Exemplo:\n",
    "    # assert pd.api.types.is_integer_dtype(df_data_1['MATRICULA']), \"Coluna 'MATRICULA' não é do tipo inteiro como esperado.\"\n",
    "    # assert pd.api.types.is_float_dtype(df_data_1['NOTA_MAT_1']), \"Coluna 'NOTA_MAT_1' não é do tipo float como esperado.\"\n",
    "    # assert pd.api.types.is_object_dtype(df_data_1['PERFIL']), \"Coluna 'PERFIL' não é do tipo objeto/string como esperado.\"\n",
    "    print(\"Testes de schema básicos passaram (verifique os asserts descomentados e adaptados).\" )\n",
    "else:\n",
    "    print(\"DataFrame df_data_1 está vazio. Testes de schema não podem ser executados.\")"
   ]
  },
  {
   "cell_type": "markdown",
   "id": "01acdf91",
   "metadata": {},
   "source": [
    "**b) TESTES DE VOLUME**\n",
    "\n",
    "* **Objetivo:** Verificar se a quantidade de dados (número de linhas) está dentro do esperado. Importante para monitorar ingestão e custos.\n",
    "* **Instrução para o Aluno:** Verifiquem o número total de linhas no DataFrame `df_data_1` carregado. Comparem com o número esperado de registros (se souberem) ou apenas verifiquem se não está vazio e se tem um volume mínimo razoável."
   ]
  },
  {
   "cell_type": "code",
   "execution_count": 22,
   "id": "f553b65a",
   "metadata": {},
   "outputs": [
    {
     "name": "stdout",
     "output_type": "stream",
     "text": [
      "\n",
      "Verificação de Volume em df_data_1:\n",
      "Número de linhas no dataset: 199\n",
      "Teste de volume (entre 50 e 1000) passado (verifique os asserts descomentados e adaptados).\n"
     ]
    }
   ],
   "source": [
    "print(\"\\nVerificação de Volume em df_data_1:\")\n",
    "if not df_data_1.empty:\n",
    "    num_linhas = len(df_data_1)\n",
    "    print(f\"Número de linhas no dataset: {num_linhas}\")\n",
    "\n",
    "    # Aluno: Adicione uma verificação se o volume está dentro de um limite aceitável.\n",
    "    # Suponha que o número mínimo esperado é 50 linhas e o máximo 1000, por exemplo.\n",
    "    volume_minimo_esperado = 50\n",
    "    volume_maximo_esperado = 1000 \n",
    "    assert num_linhas > 0, \"Falha: DataFrame está vazio.\"\n",
    "    # assert num_linhas >= volume_minimo_esperado, f\"Falha: Volume de dados ({num_linhas}) abaixo do esperado (mínimo {volume_minimo_esperado}).\"\n",
    "    # assert num_linhas <= volume_maximo_esperado, f\"Falha: Volume de dados ({num_linhas}) acima do esperado (máximo {volume_maximo_esperado}).\"\n",
    "    print(f\"Teste de volume (entre {volume_minimo_esperado} e {volume_maximo_esperado}) passado (verifique os asserts descomentados e adaptados).\")\n",
    "else:\n",
    "    print(\"DataFrame df_data_1 está vazio. Testes de volume não podem ser executados.\")"
   ]
  },
  {
   "cell_type": "markdown",
   "id": "9b934049",
   "metadata": {},
   "source": [
    "**c) TESTES DE VALORES (Domínio)**\n",
    "\n",
    "* **Objetivo:** Verificar se os valores em colunas categóricas ou de domínio restrito pertencem a um conjunto finito de valores esperados. Diferenciar de \"corretude\".\n",
    "* **Instrução para o Aluno:** Verifiquem se a coluna `PERFIL` em `df_data_1` contém apenas os valores descritos no enunciado (\"EXCELENTE\", \"MUITO BOM\", \"BOM\", \"REGULAR\", \"DIFICULDADE\"). Verifiquem os valores possíveis na coluna `INGLES` antes da transformação (deve ser 0.0, 1.0 ou NaN)."
   ]
  },
  {
   "cell_type": "code",
   "execution_count": 23,
   "id": "6a7da219",
   "metadata": {},
   "outputs": [
    {
     "name": "stdout",
     "output_type": "stream",
     "text": [
      "\n",
      "Verificação de Valores (Domínio) em df_data_1:\n",
      "Valores únicos esperados em 'PERFIL': ['BOM', 'DIFICULDADE', 'EXCELENTE', 'MUITO BOM', 'REGULAR']\n",
      "Valores únicos encontrados em 'PERFIL': ['BOM', 'DIFICULDADE', 'EXCELENTE', 'MUITO_BOM', 'REGULAR']\n",
      "Todos os valores de 'PERFIL' encontrados são válidos (estão na lista esperada): False\n",
      "\n",
      "Valores únicos esperados em 'INGLES' (sem NaN): [0.0, 1.0]\n",
      "Valores únicos encontrados em 'INGLES' (sem NaN): [0.0, 1.0]\n",
      "Todos os valores de 'INGLES' (sem NaN) são válidos: True\n",
      "Testes de valores de domínio passaram (verifique os asserts descomentados e adaptados).\n"
     ]
    }
   ],
   "source": [
    "print(\"\\nVerificação de Valores (Domínio) em df_data_1:\")\n",
    "if not df_data_1.empty:\n",
    "    # Verificação para a coluna 'PERFIL'\n",
    "    valores_perfil_esperados = sorted([\"EXCELENTE\", \"MUITO BOM\", \"BOM\", \"REGULAR\", \"DIFICULDADE\"])\n",
    "    valores_perfil_encontrados = sorted(df_data_1['PERFIL'].dropna().unique().tolist())\n",
    "    print(f\"Valores únicos esperados em 'PERFIL': {valores_perfil_esperados}\")\n",
    "    print(f\"Valores únicos encontrados em 'PERFIL': {valores_perfil_encontrados}\")\n",
    "    \n",
    "    # Aluno: Adicione código para checar se *todos* os valores encontrados estão nos valores esperados.\n",
    "    todos_perfis_validos = all(valor in valores_perfil_esperados for valor in valores_perfil_encontrados)\n",
    "    print(f\"Todos os valores de 'PERFIL' encontrados são válidos (estão na lista esperada): {todos_perfis_validos}\")\n",
    "    # assert todos_perfis_validos, \"Falha: 'PERFIL' contém valores fora do domínio esperado.\"\n",
    "\n",
    "    # Verificação para a coluna 'INGLES' (antes do tratamento de NaN)\n",
    "    valores_ingles_esperados = sorted([0.0, 1.0]) # NaN é tratado separadamente ou ignorado na checagem de domínio\n",
    "    valores_ingles_encontrados = sorted(df_data_1['INGLES'].dropna().unique().tolist())\n",
    "    print(f\"\\nValores únicos esperados em 'INGLES' (sem NaN): {valores_ingles_esperados}\")\n",
    "    print(f\"Valores únicos encontrados em 'INGLES' (sem NaN): {valores_ingles_encontrados}\")\n",
    "    \n",
    "    # Aluno: Adicione código para checar se *todos* os valores não-NaN encontrados estão nos valores esperados.\n",
    "    todos_ingles_validos = all(valor in valores_ingles_esperados for valor in valores_ingles_encontrados)\n",
    "    print(f\"Todos os valores de 'INGLES' (sem NaN) são válidos: {todos_ingles_validos}\")\n",
    "    # assert todos_ingles_validos, \"Falha: 'INGLES' (sem NaN) contém valores fora do domínio esperado [0.0, 1.0].\"\n",
    "    print(\"Testes de valores de domínio passaram (verifique os asserts descomentados e adaptados).\" )\n",
    "else:\n",
    "    print(\"DataFrame df_data_1 está vazio. Testes de valores não podem ser executados.\")"
   ]
  },
  {
   "cell_type": "markdown",
   "id": "6103b589",
   "metadata": {},
   "source": [
    "**d) TESTES NUMÉRICOS E DATAS**\n",
    "\n",
    "* **Objetivo:** Verificar se valores numéricos estão dentro de ranges esperados (mínimo, máximo, etc.) e se datas (se houvesse) estão em formatos e ranges válidos.\n",
    "* **Instrução para o Aluno:** Verifiquem se as notas (`NOTA_MAT_X`) em `df_data_1` estão dentro de um range razoável (0-10, considerando que antes do tratamento podem ter NaNs). Verifiquem se `REPROVACOES_MAT_X`, `H_AULA_PRES`, `TAREFAS_ONLINE`, `FALTAS` são não-negativos."
   ]
  },
  {
   "cell_type": "code",
   "execution_count": 24,
   "id": "ee8f10fd",
   "metadata": {},
   "outputs": [
    {
     "name": "stdout",
     "output_type": "stream",
     "text": [
      "\n",
      "Verificação de Valores Numéricos em df_data_1:\n",
      "Checando ranges das notas (0-10):\n",
      "  NOTA_MAT_1: Min=0.0, Max=8.6\n",
      "  NOTA_MAT_2: Min=0.0, Max=8.4\n",
      "  NOTA_MAT_3: Min=0.0, Max=10.0\n",
      "  NOTA_MAT_4: Min=0.0, Max=8.5\n",
      "  Testes de range para notas passaram (verifique os asserts descomentados e adaptados).\n",
      "\n",
      "Checando se contagens são não-negativas:\n",
      "  REPROVACOES_MAT_1: Min=0\n",
      "  REPROVACOES_MAT_2: Min=0\n",
      "  REPROVACOES_MAT_3: Min=0\n",
      "  REPROVACOES_MAT_4: Min=0\n",
      "  H_AULA_PRES: Min=0\n",
      "  TAREFAS_ONLINE: Min=0\n",
      "  FALTAS: Min=1\n",
      "  Testes de não-negatividade para contagens passaram (verifique os asserts descomentados e adaptados).\n"
     ]
    }
   ],
   "source": [
    "print(\"\\nVerificação de Valores Numéricos em df_data_1:\")\n",
    "if not df_data_1.empty:\n",
    "    # Verificação para as notas (considerando NaN inicialmente)\n",
    "    notas_cols = ['NOTA_MAT_1', 'NOTA_MAT_2', 'NOTA_MAT_3', 'NOTA_MAT_4']\n",
    "    print(\"Checando ranges das notas (0-10):\")\n",
    "    for col in notas_cols:\n",
    "        min_val = df_data_1[col].min()\n",
    "        max_val = df_data_1[col].max()\n",
    "        print(f\"  {col}: Min={min_val}, Max={max_val}\")\n",
    "        # Aluno: Adicione asserts ou checagens para verificar se min/max estão dentro de limites razoáveis (e.g., >= 0 e <=10)\n",
    "        # assert (pd.isna(min_val) or min_val >= 0), f\"Falha: Coluna {col} tem valor mínimo ({min_val}) abaixo de 0.\"\n",
    "        # assert (pd.isna(max_val) or max_val <= 10), f\"Falha: Coluna {col} tem valor máximo ({max_val}) acima de 10.\"\n",
    "    print(\"  Testes de range para notas passaram (verifique os asserts descomentados e adaptados).\")\n",
    "\n",
    "    # Verificação para contagens (reprovações, faltas, etc.) - devem ser não-negativos\n",
    "    contagem_cols = ['REPROVACOES_MAT_1', 'REPROVACOES_MAT_2', 'REPROVACOES_MAT_3', 'REPROVACOES_MAT_4', \n",
    "                       'H_AULA_PRES', 'TAREFAS_ONLINE', 'FALTAS']\n",
    "    print(\"\\nChecando se contagens são não-negativas:\")\n",
    "    for col in contagem_cols:\n",
    "         min_val = df_data_1[col].min()\n",
    "         print(f\"  {col}: Min={min_val}\")\n",
    "         # Aluno: Adicione asserts para verificar se o valor mínimo é >= 0\n",
    "         # assert (pd.isna(min_val) or min_val >= 0), f\"Falha: Coluna {col} tem valor mínimo ({min_val}) negativo.\"\n",
    "    print(\"  Testes de não-negatividade para contagens passaram (verifique os asserts descomentados e adaptados).\")\n",
    "\n",
    "    # Aluno: Poderiam adicionar verificações de distribuição (média, mediana, etc.) se relevante.\n",
    "    # print(f\"\\nMédia da NOTA_MAT_1: {df_data_1['NOTA_MAT_1'].mean()}\")\n",
    "else:\n",
    "    print(\"DataFrame df_data_1 está vazio. Testes numéricos não podem ser executados.\")"
   ]
  },
  {
   "cell_type": "markdown",
   "id": "b85a034c",
   "metadata": {},
   "source": [
    "**e) TESTES DE FORMATOS**\n",
    "\n",
    "* **Objetivo:** Verificar se os valores em colunas de texto ou identificadores seguem um formato ou padrão esperado.\n",
    "* **Instrução para o Aluno:** Verifiquem se a coluna `MATRICULA` em `df_data_1` contém apenas valores que parecem ser numéricos (o tipo já foi checado no Schema, aqui pode-se pensar em comprimento ou padrão se fosse string). Verifiquem se a coluna `NOME` não está vazia ou contém apenas espaços."
   ]
  },
  {
   "cell_type": "code",
   "execution_count": 25,
   "id": "eef7969f",
   "metadata": {},
   "outputs": [
    {
     "name": "stdout",
     "output_type": "stream",
     "text": [
      "\n",
      "Verificação de Formatos em df_data_1:\n",
      "Checando formato da 'MATRICULA' (tipo já verificado no Schema).\n",
      "\n",
      "Checando formato do 'NOME':\n",
      "  Número de nomes nulos, vazios ou apenas com espaços: 0\n",
      "  Teste de nomes não vazios/nulos passou (verifique o assert descomentado e adaptado).\n"
     ]
    }
   ],
   "source": [
    "print(\"\\nVerificação de Formatos em df_data_1:\")\n",
    "if not df_data_1.empty:\n",
    "    # Verificação para 'MATRICULA' - já verificado como integer no schema.\n",
    "    # Se fosse string, poderíamos checar se todos os caracteres são dígitos:\n",
    "    # Exemplo: matriculas_sao_digitos = df_data_1['MATRICULA'].astype(str).str.isdigit().all()\n",
    "    # print(f\"Todas as MATRICULAS (convertidas para string) contêm apenas dígitos: {matriculas_sao_digitos}\")\n",
    "    # assert matriculas_sao_digitos, \"Falha: Coluna 'MATRICULA' (como string) contém caracteres não-dígitos.\"\n",
    "    print(\"Checando formato da 'MATRICULA' (tipo já verificado no Schema).\")\n",
    "\n",
    "    # Verificação para 'NOME' - não deve estar vazio ou só com espaços\n",
    "    print(\"\\nChecando formato do 'NOME':\")\n",
    "    nomes_problematicos = df_data_1['NOME'].isnull() | (df_data_1['NOME'].astype(str).str.strip() == '')\n",
    "    num_nomes_problematicos = nomes_problematicos.sum()\n",
    "    print(f\"  Número de nomes nulos, vazios ou apenas com espaços: {num_nomes_problematicos}\")\n",
    "    # assert num_nomes_problematicos == 0, f\"Falha: Encontrados {num_nomes_problematicos} nomes nulos, vazios ou apenas com espaços.\"\n",
    "    print(\"  Teste de nomes não vazios/nulos passou (verifique o assert descomentado e adaptado).\")\n",
    "else:\n",
    "    print(\"DataFrame df_data_1 está vazio. Testes de formatos não podem ser executados.\")"
   ]
  },
  {
   "cell_type": "markdown",
   "id": "51d031d1",
   "metadata": {},
   "source": [
    "**f) TESTES DE UNICIDADE**\n",
    "\n",
    "* **Objetivo:** Verificar se colunas que deveriam ter valores únicos (como chaves primárias) de fato não contêm duplicados.\n",
    "* **Instrução para o Aluno:** Verifiquem se a coluna `MATRICULA` em `df_data_1` contém apenas valores únicos, pois ela provavelmente serve como identificador de cada estudante."
   ]
  },
  {
   "cell_type": "code",
   "execution_count": 26,
   "id": "62305c5b",
   "metadata": {},
   "outputs": [
    {
     "name": "stdout",
     "output_type": "stream",
     "text": [
      "\n",
      "Verificação de Unicidade em df_data_1:\n",
      "Coluna 'MATRICULA' é única: True\n",
      "Teste de unicidade para 'MATRICULA' passou (verifique o assert descomentado e adaptado).\n"
     ]
    }
   ],
   "source": [
    "print(\"\\nVerificação de Unicidade em df_data_1:\")\n",
    "if not df_data_1.empty:\n",
    "    # Verificação para 'MATRICULA' - deve ser única\n",
    "    matricula_unica = df_data_1['MATRICULA'].is_unique\n",
    "    print(f\"Coluna 'MATRICULA' é única: {matricula_unica}\")\n",
    "\n",
    "    # Aluno: Adicione um assert para falhar o teste se houver duplicados.\n",
    "    # assert matricula_unica, \"Falha: Coluna 'MATRICULA' contém valores duplicados.\"\n",
    "\n",
    "    # Opcional: Mostrar duplicados, se houver e se o assert não for usado para parar\n",
    "    if not matricula_unica:\n",
    "        duplicados = df_data_1[df_data_1.duplicated(subset=['MATRICULA'], keep=False)]\n",
    "        print(\"Linhas com MATRICULA duplicada:\")\n",
    "        print(duplicados)\n",
    "    print(\"Teste de unicidade para 'MATRICULA' passou (verifique o assert descomentado e adaptado).\" )\n",
    "else:\n",
    "    print(\"DataFrame df_data_1 está vazio. Testes de unicidade não podem ser executados.\")"
   ]
  },
  {
   "cell_type": "markdown",
   "id": "974f682a",
   "metadata": {},
   "source": [
    "**g) TESTES DE INTEGRIDADE REFERENCIAL (Intra-Tabela)**\n",
    "\n",
    "* **Objetivo:** Verificar relacionamentos lógicos entre colunas dentro da mesma tabela. Em uma única tabela, verifica consistência entre campos relacionados.\n",
    "* **Instrução para o Aluno:** Como este é um dataset de tabela única, verifiquem a integridade entre colunas relacionadas em `df_data_1`. Por exemplo, se um aluno tem reprovações em uma matéria (`REPROVACOES_MAT_X > 0`), é esperado que a nota correspondente (`NOTA_MAT_X`) seja baixa (por exemplo, menor que 4, conforme a lógica futura do notebook sugere para \"REPROVADO\"). Ou o contrário, se a nota é alta, não deveria ter reprovações. **Importante:** Este teste pode ser complexo antes das transformações, pois NaN e 0.0 (para quem não cursou) impactam a lógica. Sugiro que os alunos foquem em uma regra simples, como: se `NOTA_MAT_1` é < 4 (e não NaN), `REPROVACOES_MAT_1` deveria ser > 0."
   ]
  },
  {
   "cell_type": "code",
   "execution_count": 27,
   "id": "7877731d",
   "metadata": {},
   "outputs": [
    {
     "name": "stdout",
     "output_type": "stream",
     "text": [
      "\n",
      "Verificação de Integridade Referencial (Intra-Tabela) em df_data_1:\n",
      "Número de registros com NOTA_MAT_1 < 4 e 0 reprovações em MAT_1: 0\n",
      "Teste de integridade para MAT_1 (nota baixa, 0 reprovações) passou (ou problemas identificados, verifique o assert).\n"
     ]
    }
   ],
   "source": [
    "print(\"\\nVerificação de Integridade Referencial (Intra-Tabela) em df_data_1:\")\n",
    "if not df_data_1.empty:\n",
    "    # Exemplo: Se a nota em MAT_1 é < 4 (e não NaN), deve haver pelo menos 1 reprovação.\n",
    "    # Esta regra é uma simplificação e pode ter exceções (ex: primeira vez cursando e reprovando).\n",
    "    condicao_suspeita_mat1 = (df_data_1['NOTA_MAT_1'].notna()) & \\\n",
    "                               (df_data_1['NOTA_MAT_1'] < 4) & \\\n",
    "                               (df_data_1['REPROVACOES_MAT_1'] == 0)\n",
    "    registros_suspeitos_mat1 = df_data_1[condicao_suspeita_mat1]\n",
    "\n",
    "    print(f\"Número de registros com NOTA_MAT_1 < 4 e 0 reprovações em MAT_1: {len(registros_suspeitos_mat1)}\")\n",
    "    if len(registros_suspeitos_mat1) > 0:\n",
    "        print(\"Registros suspeitos (NOTA_MAT_1 < 4 e REPROVACOES_MAT_1 == 0):\")\n",
    "        print(registros_suspeitos_mat1[['NOME', 'NOTA_MAT_1', 'REPROVACOES_MAT_1']])\n",
    "\n",
    "    # Aluno: Adicione um assert ou uma checagem. Dependendo da regra de negócio real,\n",
    "    # pode ser que 0 reprovações e nota < 4 seja válido em alguns contextos.\n",
    "    # Assumindo que isso indica um problema potencial para este exercício:\n",
    "    # assert len(registros_suspeitos_mat1) == 0, f\"Encontrados {len(registros_suspeitos_mat1)} registros suspeitos em MAT_1 (nota baixa sem reprovação registrada).\"\n",
    "    print(\"Teste de integridade para MAT_1 (nota baixa, 0 reprovações) passou (ou problemas identificados, verifique o assert).\")\n",
    "\n",
    "    # Aluno: Repita ou adapte para outras matérias (MAT_2, MAT_3, MAT_4) ou outras regras de integridade.\n",
    "    # Exemplo para MAT_2:\n",
    "    # condicao_suspeita_mat2 = (df_data_1['NOTA_MAT_2'].notna()) & (df_data_1['NOTA_MAT_2'] < 4) & (df_data_1['REPROVACOES_MAT_2'] == 0)\n",
    "    # registros_suspeitos_mat2 = df_data_1[condicao_suspeita_mat2]\n",
    "    # print(f\"Número de registros com NOTA_MAT_2 < 4 e 0 reprovações em MAT_2: {len(registros_suspeitos_mat2)}\")\n",
    "    # assert len(registros_suspeitos_mat2) == 0, f\"Encontrados {len(registros_suspeitos_mat2)} registros suspeitos em MAT_2.\"\n",
    "\n",
    "else:\n",
    "    print(\"DataFrame df_data_1 está vazio. Testes de integridade referencial não podem ser executados.\")"
   ]
  },
  {
   "cell_type": "markdown",
   "id": "88f21ba4",
   "metadata": {},
   "source": [
    "--------------------------------------------------------------------------------\n",
    "### Transformação 1: Tratando dados faltantes para `NOTA_MAT_4` e `INGLES`\n",
    "\n",
    "Para tratar os dados faltantes em nosso conjunto de dados, iremos agora utilizar uma transformação pronta da biblioteca scikit-learn, chamada **SimpleImputer**, e o método `fillna()` do pandas.\n",
    "\n",
    "Neste exemplo:\n",
    "1.  Os valores faltantes em `INGLES` serão preenchidos com `-1` (indicando 'SEM RESPOSTA'). Isso cria `df_data_2`.\n",
    "2.  Os valores faltantes em `NOTA_MAT_4` serão preenchidos com `0` usando `SimpleImputer`. Isso atualiza `df_data_2` para `df_data_3`."
   ]
  },
  {
   "cell_type": "code",
   "execution_count": 28,
   "id": "9fb0b580",
   "metadata": {},
   "outputs": [
    {
     "name": "stdout",
     "output_type": "stream",
     "text": [
      "Valores nulos em df_data_1 ANTES do tratamento de NaN: \n",
      "MATRICULA             0\n",
      "NOME                  0\n",
      "REPROVACOES_MAT_1     0\n",
      "REPROVACOES_MAT_2     0\n",
      "REPROVACOES_MAT_3     0\n",
      "REPROVACOES_MAT_4     0\n",
      "NOTA_MAT_1            0\n",
      "NOTA_MAT_2            0\n",
      "NOTA_MAT_3            0\n",
      "NOTA_MAT_4           37\n",
      "INGLES               37\n",
      "H_AULA_PRES           0\n",
      "TAREFAS_ONLINE        0\n",
      "FALTAS                0\n",
      "PERFIL                0\n",
      "dtype: int64\n",
      "\n",
      "Valores nulos em df_data_2 (APÓS tratar INGLES com -1): \n",
      "MATRICULA             0\n",
      "NOME                  0\n",
      "REPROVACOES_MAT_1     0\n",
      "REPROVACOES_MAT_2     0\n",
      "REPROVACOES_MAT_3     0\n",
      "REPROVACOES_MAT_4     0\n",
      "NOTA_MAT_1            0\n",
      "NOTA_MAT_2            0\n",
      "NOTA_MAT_3            0\n",
      "NOTA_MAT_4           37\n",
      "INGLES                0\n",
      "H_AULA_PRES           0\n",
      "TAREFAS_ONLINE        0\n",
      "FALTAS                0\n",
      "PERFIL                0\n",
      "dtype: int64\n",
      "\n",
      "--- Após Tratamento Inicial de Dados Faltantes --- \n",
      "Valores nulos em df_data_3 (APÓS tratar INGLES com -1 e NOTA_MAT_4 com 0): \n",
      "MATRICULA            0\n",
      "NOME                 0\n",
      "REPROVACOES_MAT_1    0\n",
      "REPROVACOES_MAT_2    0\n",
      "REPROVACOES_MAT_3    0\n",
      "REPROVACOES_MAT_4    0\n",
      "NOTA_MAT_1           0\n",
      "NOTA_MAT_2           0\n",
      "NOTA_MAT_3           0\n",
      "NOTA_MAT_4           0\n",
      "INGLES               0\n",
      "H_AULA_PRES          0\n",
      "TAREFAS_ONLINE       0\n",
      "FALTAS               0\n",
      "PERFIL               0\n",
      "dtype: int64\n"
     ]
    }
   ],
   "source": [
    "if not df_data_1.empty:\n",
    "    print(\"Valores nulos em df_data_1 ANTES do tratamento de NaN: \\n{}\".format(df_data_1.isnull().sum()))\n",
    "\n",
    "    # Etapa 1.1: Tratar INGLES e criar df_data_2\n",
    "    # df_data_2 será o DataFrame após o preenchimento de NaNs em 'INGLES'\n",
    "    df_data_2 = df_data_1.copy()\n",
    "    df_data_2[\"INGLES\"].fillna(-1, inplace=True)\n",
    "    print(\"\\nValores nulos em df_data_2 (APÓS tratar INGLES com -1): \\n{}\".format(df_data_2.isnull().sum()))\n",
    "\n",
    "    # Etapa 1.2: Tratar NOTA_MAT_4 em df_data_2 para criar df_data_3\n",
    "    # df_data_3 será o DataFrame após a imputação de NaNs em 'NOTA_MAT_4' (e já com 'INGLES' tratado)\n",
    "    df_data_3 = df_data_2.copy()\n",
    "    imputer_nota_mat_4 = SimpleImputer(missing_values=np.nan, strategy='constant', fill_value=0)\n",
    "    df_data_3[['NOTA_MAT_4']] = imputer_nota_mat_4.fit_transform(df_data_3[['NOTA_MAT_4']])\n",
    "    # Nota: Se a intenção do notebook original era imputar TODOS os NaNs numéricos com 0,\n",
    "    # o SimpleImputer deveria ser aplicado de forma mais ampla. Aqui, focamos em NOTA_MAT_4.\n",
    "    \n",
    "    print(\"\\n--- Após Tratamento Inicial de Dados Faltantes --- \")\n",
    "    print(\"Valores nulos em df_data_3 (APÓS tratar INGLES com -1 e NOTA_MAT_4 com 0): \\n{}\".format(df_data_3.isnull().sum()))\n",
    "    # O print original do prompt usava df_data_2.isnull().sum() aqui. \n",
    "    # Se df_data_2 é o estado *após* INGLES e NOTA_MAT_4 tratados, então o print deve usar o df final dessa etapa (df_data_3).\n",
    "    # Se df_data_2 no print do prompt era para mostrar o estado *antes* de NOTA_MAT_4, então o código acima está correto\n",
    "    # em criar df_data_2 e df_data_3 como estados sequenciais para os testes.\n",
    "else:\n",
    "    print(\"DataFrame df_data_1 está vazio. Transformações de NaN não podem ser executadas.\")\n",
    "    # Define df_data_2 e df_data_3 como vazios para evitar erros nas células de teste\n",
    "    df_data_2 = pd.DataFrame()\n",
    "    df_data_3 = pd.DataFrame()"
   ]
  },
  {
   "cell_type": "markdown",
   "id": "9b13993a",
   "metadata": {},
   "source": [
    "## TESTES DE QUALIDADE (Após Tratamento Inicial de Dados Faltantes)\n",
    "\n",
    "# ALUNOS: completar as células abaixo com testes para verificar se a transformação de dados faltantes funcionou como esperado.\n",
    "# Testes para 'INGLES' usarão `df_data_2`.\n",
    "# Testes para 'NOTA_MAT_4' usarão `df_data_3`."
   ]
  },
  {
   "cell_type": "markdown",
   "id": "59e29257",
   "metadata": {},
   "source": [
    "--------------------------------------------------------------------------------\n",
    "**Testes de Qualidade dos Dados - Etapa 2 (Após Tratamento de Dados Faltantes)**\n",
    "\n",
    "**c) TESTES DE VALORES (Revisão)**\n",
    "\n",
    "* **Objetivo:** Verificar se os valores após o tratamento de NaN estão conforme o esperado (e.g., -1 para `INGLES`).\n",
    "* **Instrução para o Aluno:** Verifiquem se a coluna `INGLES` em `df_data_2` agora inclui o valor -1.0 e não tem mais NaNs."
   ]
  },
  {
   "cell_type": "code",
   "execution_count": 29,
   "id": "1c69427b",
   "metadata": {},
   "outputs": [
    {
     "name": "stdout",
     "output_type": "stream",
     "text": [
      "\n",
      "Verificação de Valores ('INGLES') em df_data_2 após fillna(-1):\n",
      "Valores únicos em 'INGLES' (df_data_2): [-1.0, 0.0, 1.0]\n",
      "Teste de valores para 'INGLES' em df_data_2 após fillna(-1) passou (verifique os asserts descomentados e adaptados).\n"
     ]
    }
   ],
   "source": [
    "print(\"\\nVerificação de Valores ('INGLES') em df_data_2 após fillna(-1):\")\n",
    "if not df_data_2.empty:\n",
    "    valores_ingles_encontrados_apos = sorted(df_data_2['INGLES'].unique().tolist())\n",
    "    print(f\"Valores únicos em 'INGLES' (df_data_2): {valores_ingles_encontrados_apos}\")\n",
    "\n",
    "    # Aluno: Adicione um assert para verificar se os valores agora são 0.0, 1.0 ou -1.0 e não há NaNs.\n",
    "    valores_ingles_esperados_apos_tratamento = sorted([-1.0, 0.0, 1.0])\n",
    "    # assert df_data_2['INGLES'].isin(valores_ingles_esperados_apos_tratamento).all(), \"Falha: Coluna 'INGLES' em df_data_2 contém valores inesperados após fillna.\"\n",
    "    # assert df_data_2['INGLES'].notna().all(), \"Falha: Coluna 'INGLES' em df_data_2 ainda contém valores NaN.\"\n",
    "    print(\"Teste de valores para 'INGLES' em df_data_2 após fillna(-1) passou (verifique os asserts descomentados e adaptados).\")\n",
    "else:\n",
    "    print(\"DataFrame df_data_2 está vazio. Testes de valores para INGLES não podem ser executados.\")"
   ]
  },
  {
   "cell_type": "markdown",
   "id": "58d1669d",
   "metadata": {},
   "source": [
    "**d) TESTES NUMÉRICOS E DATAS (Revisão)**\n",
    "\n",
    "* **Objetivo:** Verificar se os ranges ou valores específicos após o tratamento de NaN estão conforme o esperado (e.g., 0 para `NOTA_MAT_4` onde era NaN).\n",
    "* **Instrução para o Aluno:** Verifiquem se a coluna `NOTA_MAT_4` em `df_data_3` não tem mais NaNs e agora inclui o valor 0 onde antes era NaN. Verifiquem o valor mínimo da coluna `NOTA_MAT_4`."
   ]
  },
  {
   "cell_type": "code",
   "execution_count": 30,
   "id": "f3750c43",
   "metadata": {},
   "outputs": [
    {
     "name": "stdout",
     "output_type": "stream",
     "text": [
      "\n",
      "Verificação de Valores Numéricos ('NOTA_MAT_4') em df_data_3 após SimpleImputer(fill_value=0):\n",
      "Número de NaNs em 'NOTA_MAT_4' (df_data_3): 0\n",
      "Teste de ausência de NaN em 'NOTA_MAT_4' (df_data_3) passou (verifique o assert descomentado e adaptado).\n",
      "Valor mínimo em 'NOTA_MAT_4' (df_data_3): 0.0\n",
      "Teste de valor mínimo não-negativo e presença de 0 (se aplicável) para 'NOTA_MAT_4' (df_data_3) passou (verifique os asserts descomentados e adaptados).\n"
     ]
    }
   ],
   "source": [
    "print(\"\\nVerificação de Valores Numéricos ('NOTA_MAT_4') em df_data_3 após SimpleImputer(fill_value=0):\")\n",
    "if not df_data_3.empty:\n",
    "    num_nulos_nota4 = df_data_3['NOTA_MAT_4'].isnull().sum()\n",
    "    print(f\"Número de NaNs em 'NOTA_MAT_4' (df_data_3): {num_nulos_nota4}\")\n",
    "    # assert num_nulos_nota4 == 0, f\"Falha: Coluna 'NOTA_MAT_4' em df_data_3 ainda contém NaNs: {num_nulos_nota4}.\"\n",
    "    print(\"Teste de ausência de NaN em 'NOTA_MAT_4' (df_data_3) passou (verifique o assert descomentado e adaptado).\")\n",
    "\n",
    "    min_nota4 = df_data_3['NOTA_MAT_4'].min()\n",
    "    print(f\"Valor mínimo em 'NOTA_MAT_4' (df_data_3): {min_nota4}\")\n",
    "    # Aluno: Adicione um assert para verificar se 0 é um dos valores possíveis (ou o mínimo se todos os NaNs se tornaram 0)\n",
    "    # e se o mínimo não é negativo.\n",
    "    # assert min_nota4 >= 0, f\"Falha: Valor mínimo em 'NOTA_MAT_4' ({min_nota4}) em df_data_3 é negativo.\"\n",
    "    # Para checar se 0 está presente se havia NaNs originais:\n",
    "    # if df_data_1['NOTA_MAT_4'].isnull().any(): # Checa se havia NaNs na original\n",
    "    #    assert 0.0 in df_data_3['NOTA_MAT_4'].unique(), \"Falha: O valor 0.0 (imputado) não está presente em NOTA_MAT_4 em df_data_3, mas deveria se havia NaNs.\"\n",
    "    print(\"Teste de valor mínimo não-negativo e presença de 0 (se aplicável) para 'NOTA_MAT_4' (df_data_3) passou (verifique os asserts descomentados e adaptados).\")\n",
    "else:\n",
    "    print(\"DataFrame df_data_3 está vazio. Testes numéricos para NOTA_MAT_4 não podem ser executados.\")"
   ]
  },
  {
   "cell_type": "markdown",
   "id": "a0bd7b53",
   "metadata": {},
   "source": [
    "Nota-se que não deveriamos ter mais nenhum valor faltante nas colunas `INGLES` e `NOTA_MAT_4` após essas transformações específicas."
   ]
  },
  {
   "cell_type": "markdown",
   "id": "269aa202",
   "metadata": {},
   "source": [
    "### Transformação 2: Criação de novas colunas descritivas (`CURSOU_MAT_X_DESC`) e imputação da média nas notas para casos de 'AINDA NAO CURSOU'"
   ]
  },
  {
   "cell_type": "code",
   "execution_count": 31,
   "id": "d384f390",
   "metadata": {},
   "outputs": [
    {
     "name": "stdout",
     "output_type": "stream",
     "text": [
      "\n",
      "Médias calculadas (para quem cursou):\n",
      "  MEDIA_NOTA_MAT_1: 5.14\n",
      "  MEDIA_NOTA_MAT_2: 5.00\n",
      "  MEDIA_NOTA_MAT_3: 4.76\n",
      "  MEDIA_NOTA_MAT_4: 4.22\n",
      "\n",
      "--- Após Criação de Colunas Descritivas e Imputação de Médias (df_data_4) ---\n",
      "Novas colunas adicionadas e médias imputadas.\n",
      "                        NOME  NOTA_MAT_1  REPROVACOES_MAT_1  CURSOU_MAT1_DESC  \\\n",
      "0          Márcia Illiglener         6.2                  0                 1   \n",
      "1   Jason Jytereoman Izoimum         6.0                  0                 1   \n",
      "2  Bartolomeu Inácio da Gama         7.3                  0                 1   \n",
      "3            Fernanda Guedes         0.0                  1                 0   \n",
      "4     Alessandre Borba Gomes         0.0                  1                 0   \n",
      "\n",
      "   NOTA_MAT_2  REPROVACOES_MAT_2  CURSOU_MAT2_DESC  \n",
      "0         5.8                  0                 1  \n",
      "1         6.2                  0                 1  \n",
      "2         6.7                  0                 1  \n",
      "3         0.0                  3                 0  \n",
      "4         0.0                  3                 0  \n"
     ]
    }
   ],
   "source": [
    "# A entrada para esta transformação é df_data_3\n",
    "if not df_data_3.empty:\n",
    "    df = df_data_3.copy() # Usar uma cópia para criar df_data_4\n",
    "\n",
    "    # 4) Criar colunas CURSOU_MATX_DESC\n",
    "    # APROVADO = 1, NOTA >= 4 e REPROVACOES == 0\n",
    "    cond1_mat1 = (df['NOTA_MAT_1'] >= 4) & (df['REPROVACOES_MAT_1'] == 0)\n",
    "    cond1_mat2 = (df['NOTA_MAT_2'] >= 4) & (df['REPROVACOES_MAT_2'] == 0)\n",
    "    cond1_mat3 = (df['NOTA_MAT_3'] >= 4) & (df['REPROVACOES_MAT_3'] == 0)\n",
    "    cond1_mat4 = (df['NOTA_MAT_4'] >= 4) & (df['REPROVACOES_MAT_4'] == 0)\n",
    "    \n",
    "    # REPROVADO = 0, NOTA < 4 e REPROVACOES > 0 (ou NOTA < 4 mesmo com REPROVACOES == 0 se for a primeira vez)\n",
    "    # A lógica original do notebook era: (df['NOTA_MAT_X'] < 4) & (df['REPROVACOES_MAT_X'] > 0)\n",
    "    # Vamos manter essa lógica. Casos como nota < 4 e reprovações == 0 não seriam classificados por esta regra nem pela de aprovado.\n",
    "    # Eles seriam 'AINDA NAO CURSOU' se NOTA == 0 e REPROVACOES == 0.\n",
    "    # Se NOTA_MAT_X é < 4 mas > 0 e REPROVACOES_MAT_X == 0, ficaria sem categoria por estas duas condições.\n",
    "    # O np.select usará o valor default (0) se nenhuma condição for atendida, ou o último da lista de 'choices'.\n",
    "    # Para ser mais explícito, a regra de REPROVADO pode ser apenas NOTA < 4 (assumindo que se cursou e não aprovou, é reprovado)\n",
    "    # No entanto, o notebook original tem uma lógica específica para 'AINDA NAO CURSOU' (NOTA == 0 e REPROVACOES == 0)\n",
    "    # Vamos seguir a lógica do notebook original para CURSOU_MATX_DESC, que parece ser:\n",
    "    # 1 (APROVADO), 0 (REPROVADO), -1 (AINDA NAO CURSOU)\n",
    "\n",
    "    # REPROVADO = 0\n",
    "    cond2_mat1 = (df['NOTA_MAT_1'] < 4) & (df['REPROVACOES_MAT_1'] > 0) # Lógica original do notebook\n",
    "    # Uma lógica mais abrangente para reprovado poderia ser apenas (df['NOTA_MAT_1'] < 4) & (df['NOTA_MAT_1'] != 0)\n",
    "    # Mas isso conflitaria com a definição de 'AINDA NAO CURSOU' se NOTA_MAT_1=0 e REPROVACOES_MAT_1 > 0 (que não deveria ocorrer)\n",
    "    cond2_mat2 = (df['NOTA_MAT_2'] < 4) & (df['REPROVACOES_MAT_2'] > 0)\n",
    "    cond2_mat3 = (df['NOTA_MAT_3'] < 4) & (df['REPROVACOES_MAT_3'] > 0)\n",
    "    cond2_mat4 = (df['NOTA_MAT_4'] < 4) & (df['REPROVACOES_MAT_4'] > 0)\n",
    "\n",
    "    # AINDA NAO CURSOU = -1 : NOTA = 0, SEM REPROVAÇÕES\n",
    "    # Esta condição é crucial. NOTA_MAT_4 já foi imputada para 0 se era NaN.\n",
    "    # Se NOTA_MAT_X == 0 E REPROVACOES_MAT_X == 0, então AINDA NAO CURSOU.\n",
    "    cond3_mat1 = (df['NOTA_MAT_1'] == 0) & (df['REPROVACOES_MAT_1'] == 0)\n",
    "    cond3_mat2 = (df['NOTA_MAT_2'] == 0) & (df['REPROVACOES_MAT_2'] == 0)\n",
    "    cond3_mat3 = (df['NOTA_MAT_3'] == 0) & (df['REPROVACOES_MAT_3'] == 0)\n",
    "    cond3_mat4 = (df['NOTA_MAT_4'] == 0) & (df['REPROVACOES_MAT_4'] == 0)\n",
    "\n",
    "    conditions_MAT1 = [cond1_mat1, cond2_mat1, cond3_mat1]\n",
    "    conditions_MAT2 = [cond1_mat2, cond2_mat2, cond3_mat2]\n",
    "    conditions_MAT3 = [cond1_mat3, cond2_mat3, cond3_mat3]\n",
    "    conditions_MAT4 = [cond1_mat4, cond2_mat4, cond3_mat4]\n",
    "\n",
    "    choices = [1, 0, -1] # 1:APROVADO, 0:REPROVADO, -1:AINDA NAO CURSOU\n",
    "    # O default do np.select é 0. Se uma linha não se encaixa em nenhuma condição, \n",
    "    # CURSOU_MATX_DESC será 0. Isso pode ser problemático se 0 é REPROVADO.\n",
    "    # É importante que as condições cubram todos os casos ou que o default seja bem pensado.\n",
    "    # Para este caso, se não for APROVADO, REPROVADO (pela regra estrita), ou AINDA NAO CURSOU,\n",
    "    # o que seria? Ex: NOTA=3, REPROVACOES=0. Não é APROVADO, não é REPROVADO (pela regra), não é AINDA NAO CURSOU.\n",
    "    # O ideal seria ter uma categoria 'OUTRO' ou ajustar as regras para serem exaustivas.\n",
    "    # Por ora, vamos usar um default que não seja uma das categorias válidas, como -99, e depois verificar.\n",
    "    default_choice = -99 # Um valor para identificar casos não cobertos pelas regras explícitas\n",
    "\n",
    "    df['CURSOU_MAT1_DESC'] = np.select(conditions_MAT1, choices, default=default_choice)\n",
    "    df['CURSOU_MAT2_DESC'] = np.select(conditions_MAT2, choices, default=default_choice)\n",
    "    df['CURSOU_MAT3_DESC'] = np.select(conditions_MAT3, choices, default=default_choice)\n",
    "    df['CURSOU_MAT4_DESC'] = np.select(conditions_MAT4, choices, default=default_choice)\n",
    "\n",
    "    # Verificar se algum default foi usado\n",
    "    for i in range(1,5):\n",
    "        if default_choice in df[f'CURSOU_MAT{i}_DESC'].unique():\n",
    "            print(f\"ALERTA: Casos não cobertos pelas regras em CURSOU_MAT{i}_DESC. Valor {default_choice} atribuído.\")\n",
    "            # print(df[df[f'CURSOU_MAT{i}_DESC'] == default_choice][['NOME', f'NOTA_MAT_{i}', f'REPROVACOES_MAT_{i}']])\n",
    "    \n",
    "    # Imputação da média nas notas para 'AINDA NAO CURSOU'\n",
    "    MEDIA_NOTA_MAT_1 = df.loc[df['CURSOU_MAT1_DESC'] != -1, 'NOTA_MAT_1'].mean()\n",
    "    MEDIA_NOTA_MAT_2 = df.loc[df['CURSOU_MAT2_DESC'] != -1, 'NOTA_MAT_2'].mean()\n",
    "    MEDIA_NOTA_MAT_3 = df.loc[df['CURSOU_MAT3_DESC'] != -1, 'NOTA_MAT_3'].mean()\n",
    "    MEDIA_NOTA_MAT_4 = df.loc[df['CURSOU_MAT4_DESC'] != -1, 'NOTA_MAT_4'].mean()\n",
    "    \n",
    "    # Armazenar médias para referência nos testes\n",
    "    medias_calculadas = {\n",
    "        'MEDIA_NOTA_MAT_1': MEDIA_NOTA_MAT_1,\n",
    "        'MEDIA_NOTA_MAT_2': MEDIA_NOTA_MAT_2,\n",
    "        'MEDIA_NOTA_MAT_3': MEDIA_NOTA_MAT_3,\n",
    "        'MEDIA_NOTA_MAT_4': MEDIA_NOTA_MAT_4\n",
    "    }\n",
    "    print(\"\\nMédias calculadas (para quem cursou):\")\n",
    "    for key, value in medias_calculadas.items():\n",
    "        print(f\"  {key}: {value:.2f}\")\n",
    "\n",
    "    df.loc[df['CURSOU_MAT1_DESC'] == -1, 'NOTA_MAT_1'] = MEDIA_NOTA_MAT_1\n",
    "    df.loc[df['CURSOU_MAT2_DESC'] == -1, 'NOTA_MAT_2'] = MEDIA_NOTA_MAT_2\n",
    "    df.loc[df['CURSOU_MAT3_DESC'] == -1, 'NOTA_MAT_3'] = MEDIA_NOTA_MAT_3\n",
    "    df.loc[df['CURSOU_MAT4_DESC'] == -1, 'NOTA_MAT_4'] = MEDIA_NOTA_MAT_4\n",
    "\n",
    "    df_data_4 = df # DataFrame final após esta transformação\n",
    "\n",
    "    print(\"\\n--- Após Criação de Colunas Descritivas e Imputação de Médias (df_data_4) ---\")\n",
    "    print(\"Novas colunas adicionadas e médias imputadas.\")\n",
    "    print(df_data_4[['NOME', 'NOTA_MAT_1', 'REPROVACOES_MAT_1', 'CURSOU_MAT1_DESC', \n",
    "                     'NOTA_MAT_2', 'REPROVACOES_MAT_2', 'CURSOU_MAT2_DESC']].head())\n",
    "else:\n",
    "    print(\"DataFrame df_data_3 está vazio. Transformação 2 não pode ser executada.\")\n",
    "    df_data_4 = pd.DataFrame() # Define df_data_4 como vazio para evitar erros"
   ]
  },
  {
   "cell_type": "markdown",
   "id": "d17722da",
   "metadata": {},
   "source": [
    "## TESTES DE QUALIDADE (Após Criação de Colunas Descritivas e Imputação de Médias)\n",
    "\n",
    "# ALUNOS: completar as células abaixo com testes para verificar as novas colunas (`CURSOU_MAT_X_DESC`) e os valores de notas imputados em `df_data_4`."
   ]
  },
  {
   "cell_type": "markdown",
   "id": "c5ccbd86",
   "metadata": {},
   "source": [
    "--------------------------------------------------------------------------------\n",
    "**Testes de Qualidade dos Dados - Etapa Final (Após Criação de Colunas e Imputação de Médias em `df_data_4`)**\n",
    "\n",
    "**e) TESTES DE VALORES (Novas Colunas)**\n",
    "\n",
    "* **Objetivo:** Verificar se os valores nas novas colunas criadas (`CURSOU_MAT_X_DESC`) estão conforme o esperado (1, 0, -1, ou o valor default se usado).\n",
    "* **Instrução para o Aluno:** Verifiquem se as novas colunas `CURSOU_MAT_X_DESC` em `df_data_4` contêm apenas os valores 1, 0 ou -1 (ou o valor default `-99` se as regras não cobriram todos os casos)."
   ]
  },
  {
   "cell_type": "code",
   "execution_count": 32,
   "id": "51a5c0d0",
   "metadata": {},
   "outputs": [
    {
     "name": "stdout",
     "output_type": "stream",
     "text": [
      "\n",
      "Verificação de Valores (Novas Colunas 'CURSOU_MAT_X_DESC') em df_data_4:\n",
      "  Valores únicos em 'CURSOU_MAT1_DESC': [0, 1]\n",
      "  Valores únicos em 'CURSOU_MAT2_DESC': [0, 1]\n",
      "  Valores únicos em 'CURSOU_MAT3_DESC': [0, 1]\n",
      "  Valores únicos em 'CURSOU_MAT4_DESC': [-1, 0, 1]\n",
      "  Testes de valores para 'CURSOU_MAT_X_DESC' passaram (verifique os asserts e a presença do valor default).\n"
     ]
    }
   ],
   "source": [
    "print(\"\\nVerificação de Valores (Novas Colunas 'CURSOU_MAT_X_DESC') em df_data_4:\")\n",
    "if not df_data_4.empty:\n",
    "    cursou_cols = ['CURSOU_MAT1_DESC', 'CURSOU_MAT2_DESC', 'CURSOU_MAT3_DESC', 'CURSOU_MAT4_DESC']\n",
    "    # Se o default_choice (-99) foi usado e é um valor indesejado, ele deve ser tratado ou as regras ajustadas.\n",
    "    # Para o teste, vamos considerar os valores esperados como [1, 0, -1] e verificar se -99 aparece.\n",
    "    valores_cursou_esperados_principais = [1, 0, -1]\n",
    "    # default_choice_usado_na_transformacao = -99 # definido na célula de transformação\n",
    "\n",
    "    for col in cursou_cols:\n",
    "        valores_encontrados = sorted(df_data_4[col].unique().tolist())\n",
    "        print(f\"  Valores únicos em '{col}': {valores_encontrados}\")\n",
    "        \n",
    "        # Aluno: Adicione assert para verificar se todos os valores encontrados estão nos valores esperados.\n",
    "        # Primeiro, verifique se o default_choice (-99) está presente, o que indicaria um problema nas regras.\n",
    "        # assert default_choice_usado_na_transformacao not in valores_encontrados, f\"Falha: Coluna '{col}' contém o valor default {default_choice_usado_na_transformacao}, indicando casos não cobertos pelas regras.\"\n",
    "        \n",
    "        # Depois, verifique se os demais valores estão corretos.\n",
    "        # todos_valores_validos = all(v in valores_cursou_esperados_principais for v in valores_encontrados if v != default_choice_usado_na_transformacao)\n",
    "        # assert todos_valores_validos, f\"Falha: Coluna '{col}' contém valores inesperados além de {valores_cursou_esperados_principais} e {default_choice_usado_na_transformacao}. Encontrados: {valores_encontrados}\"\n",
    "    print(\"  Testes de valores para 'CURSOU_MAT_X_DESC' passaram (verifique os asserts e a presença do valor default).\" )\n",
    "else:\n",
    "    print(\"DataFrame df_data_4 está vazio. Testes de valores para CURSOU_MAT_X_DESC não podem ser executados.\")"
   ]
  },
  {
   "cell_type": "markdown",
   "id": "eb8462a9",
   "metadata": {},
   "source": [
    "**f) TESTES NUMÉRICOS E DATAS (Após Imputação da Média)**\n",
    "\n",
    "* **Objetivo:** Verificar se as médias foram calculadas e imputadas corretamente nas notas onde `CURSOU_MAT_X_DESC` é -1.\n",
    "* **Instrução para o Aluno:** Verifiquem se os registros onde `CURSOU_MAT_1_DESC` é -1 (AINDA NAO CURSOU) em `df_data_4` agora têm o valor da `NOTA_MAT_1` igual à média calculada (`MEDIA_NOTA_MAT_1`). Repitam para as outras matérias."
   ]
  },
  {
   "cell_type": "code",
   "execution_count": 33,
   "id": "1aadbf60",
   "metadata": {},
   "outputs": [
    {
     "name": "stdout",
     "output_type": "stream",
     "text": [
      "\n",
      "Verificação de Valores Numéricos (Após Imputação da Média) em df_data_4:\n",
      "Verificando NOTA_MAT_1 para CURSOU_MAT1_DESC == -1:\n",
      "  Média esperada (calculada para quem cursou): 5.1367\n",
      "  Não há registros onde CURSOU_MAT1_DESC == -1 para NOTA_MAT_1, ou a coluna de nota está vazia para esses casos.\n"
     ]
    }
   ],
   "source": [
    "print(\"\\nVerificação de Valores Numéricos (Após Imputação da Média) em df_data_4:\")\n",
    "if not df_data_4.empty:\n",
    "    # As médias foram calculadas e armazenadas no dicionário 'medias_calculadas' na célula de transformação.\n",
    "    # Exemplo para NOTA_MAT_1:\n",
    "    materia_idx = 1\n",
    "    col_nota = f'NOTA_MAT_{materia_idx}'\n",
    "    col_cursou = f'CURSOU_MAT{materia_idx}_DESC'\n",
    "    media_esperada = medias_calculadas[f'MEDIA_NOTA_MAT_{materia_idx}']\n",
    "    \n",
    "    print(f\"Verificando {col_nota} para {col_cursou} == -1:\")\n",
    "    print(f\"  Média esperada (calculada para quem cursou): {media_esperada:.4f}\")\n",
    "\n",
    "    # Aluno: Verifique os valores de NOTA_MAT_1 onde CURSOU_MAT1_DESC é -1.\n",
    "    # Use df_data_4 para esta verificação.\n",
    "    notas_reais_ainda_nao_cursou = df_data_4.loc[df_data_4[col_cursou] == -1, col_nota]\n",
    "    \n",
    "    if not notas_reais_ainda_nao_cursou.empty:\n",
    "        valores_unicos_notas_imputadas = notas_reais_ainda_nao_cursou.unique()\n",
    "        print(f\"  Valores únicos de {col_nota} encontrados para '{col_cursou} == -1': {valores_unicos_notas_imputadas}\")\n",
    "        \n",
    "        # Aluno: Adicione um assert para verificar se todos os valores encontrados são aproximadamente iguais à média calculada.\n",
    "        # Pode haver pequena diferença de float, usar np.isclose() ou uma tolerância.\n",
    "        # for nota_imputada in valores_unicos_notas_imputadas:\n",
    "        #     assert np.isclose(nota_imputada, media_esperada), f\"Falha: Nota imputada {nota_imputada:.4f} para '{col_cursou} == -1' em {col_nota} não é igual à média calculada {media_esperada:.4f}.\"\n",
    "        print(f\"  Teste de imputação da média para {col_nota} passou (verifique o assert descomentado e adaptado).\")\n",
    "    else:\n",
    "        print(f\"  Não há registros onde {col_cursou} == -1 para {col_nota}, ou a coluna de nota está vazia para esses casos.\")\n",
    "\n",
    "    # Aluno: Repita para as outras matérias (MAT_2, MAT_3, MAT_4) usando um loop ou copiando o bloco.\n",
    "    # for materia_idx_loop in range(2, 5):\n",
    "    #     col_nota_loop = f'NOTA_MAT_{materia_idx_loop}'\n",
    "    #     col_cursou_loop = f'CURSOU_MAT{materia_idx_loop}_DESC'\n",
    "    #     media_esperada_loop = medias_calculadas[f'MEDIA_NOTA_MAT_{materia_idx_loop}']\n",
    "    #     print(f\"\\nVerificando {col_nota_loop} para {col_cursou_loop} == -1:\")\n",
    "    #     print(f\"  Média esperada: {media_esperada_loop:.4f}\")\n",
    "    #     notas_reais_loop = df_data_4.loc[df_data_4[col_cursou_loop] == -1, col_nota_loop]\n",
    "    #     if not notas_reais_loop.empty:\n",
    "    #         valores_unicos_loop = notas_reais_loop.unique()\n",
    "    #         print(f\"  Valores únicos de {col_nota_loop} encontrados: {valores_unicos_loop}\")\n",
    "    #         for nota_imp_loop in valores_unicos_loop:\n",
    "    #             assert np.isclose(nota_imp_loop, media_esperada_loop), f\"Falha loop: {col_nota_loop}, {nota_imp_loop}, {media_esperada_loop}\"\n",
    "    #     print(f\"  Teste de imputação da média para {col_nota_loop} passou.\")\n",
    "else:\n",
    "    print(\"DataFrame df_data_4 está vazio. Testes de imputação de média não podem ser executados.\")"
   ]
  },
  {
   "cell_type": "markdown",
   "id": "cc4f0016",
   "metadata": {},
   "source": [
    "**g) TESTES DE INTEGRIDADE REFERENCIAL (Consistência Lógica Após Criação de Colunas)**\n",
    "\n",
    "* **Objetivo:** Verificar se a lógica das novas colunas `CURSOU_MAT_X_DESC` (1: APROVADO, 0: REPROVADO, -1: AINDA NAO CURSOU) está consistente com os valores originais de `NOTA_MAT_X` e `REPROVACOES_MAT_X` em `df_data_4`, baseados nas condições definidas na transformação.\n",
    "* **Instrução para o Aluno:** Verifiquem se não há registros onde a coluna `CURSOU_MAT_1_DESC` indica \"APROVADO\" (1), mas `NOTA_MAT_1` é menor que 4 ou `REPROVACOES_MAT_1` é maior que 0. Verifiquem as outras combinações lógicas definidas para REPROVADO (0) e AINDA NAO CURSOU (-1) para todas as matérias. Cuidado com os casos não cobertos (`default_choice = -99`)."
   ]
  },
  {
   "cell_type": "code",
   "execution_count": 34,
   "id": "f27f8368",
   "metadata": {},
   "outputs": [
    {
     "name": "stdout",
     "output_type": "stream",
     "text": [
      "\n",
      "Verificação de Integridade Referencial (Consistência Lógica das Novas Colunas) em df_data_4:\n",
      "Número de inconsistências para CURSOU_MAT1_DESC (APROVADO): 0\n",
      "Número de inconsistências para CURSOU_MAT1_DESC (REPROVADO): 0\n",
      "Número de inconsistências para CURSOU_MAT1_DESC (AINDA NAO CURSOU - Reprovações > 0): 0\n",
      "Número de inconsistências para CURSOU_MAT1_DESC (AINDA NAO CURSOU - Nota não é a média): 0\n",
      "Testes de integridade para CURSOU_MAT_X_DESC passaram (verifique os asserts e adapte para outras matérias).\n"
     ]
    }
   ],
   "source": [
    "print(\"\\nVerificação de Integridade Referencial (Consistência Lógica das Novas Colunas) em df_data_4:\")\n",
    "if not df_data_4.empty:\n",
    "    # Exemplo para MAT_1\n",
    "    materia_idx = 1\n",
    "    col_nota = f'NOTA_MAT_{materia_idx}'\n",
    "    col_reprov = f'REPROVACOES_MAT_{materia_idx}'\n",
    "    col_cursou = f'CURSOU_MAT{materia_idx}_DESC'\n",
    "    media_imputada_mat1 = medias_calculadas[f'MEDIA_NOTA_MAT_{materia_idx}'] # Usada na regra de AINDA NAO CURSOU\n",
    "\n",
    "    # Regra 1: Se CURSOU_MAT1_DESC é 1 (APROVADO), então NOTA_MAT_1 >= 4 E REPROVACOES_MAT_1 == 0\n",
    "    violacoes_mat1_aprovado = df_data_4[\n",
    "        (df_data_4[col_cursou] == 1) & \n",
    "        ((df_data_4[col_nota] < 4) | (df_data_4[col_reprov] > 0))\n",
    "    ]\n",
    "    print(f\"Número de inconsistências para {col_cursou} (APROVADO): {len(violacoes_mat1_aprovado)}\")\n",
    "    # assert len(violacoes_mat1_aprovado) == 0, f\"Falha: Encontradas {len(violacoes_mat1_aprovado)} inconsistências para {col_cursou} (APROVADO).\"\n",
    "    if len(violacoes_mat1_aprovado) > 0: print(violacoes_mat1_aprovado[[col_nota, col_reprov, col_cursou]])\n",
    "\n",
    "    # Regra 2: Se CURSOU_MAT1_DESC é 0 (REPROVADO), então NOTA_MAT_1 < 4 E REPROVACOES_MAT_1 > 0 (conforme lógica original)\n",
    "    violacoes_mat1_reprovado = df_data_4[\n",
    "        (df_data_4[col_cursou] == 0) & \n",
    "        ((df_data_4[col_nota] >= 4) | (df_data_4[col_reprov] == 0))\n",
    "    ]\n",
    "    print(f\"Número de inconsistências para {col_cursou} (REPROVADO): {len(violacoes_mat1_reprovado)}\")\n",
    "    # assert len(violacoes_mat1_reprovado) == 0, f\"Falha: Encontradas {len(violacoes_mat1_reprovado)} inconsistências para {col_cursou} (REPROVADO).\"\n",
    "    if len(violacoes_mat1_reprovado) > 0: print(violacoes_mat1_reprovado[[col_nota, col_reprov, col_cursou]])\n",
    "\n",
    "    # Regra 3: Se CURSOU_MAT1_DESC é -1 (AINDA NAO CURSOU), \n",
    "    # então NOTA_MAT_1 (após imputação) é a MÉDIA e REPROVACOES_MAT_1 == 0 originalmente.\n",
    "    # A checagem da nota média já foi feita. Aqui, verificar REPROVACOES_MAT_1 == 0.\n",
    "    # E também que a NOTA_MAT_1 original (antes da imputação da média) era 0.\n",
    "    # Para isso, precisaríamos de df_data_3 (antes da imputação da média para 'AINDA NAO CURSOU')\n",
    "    # Vamos checar REPROVACOES e a NOTA_MAT_1 imputada.\n",
    "    violacoes_mat1_nao_cursou_reprov = df_data_4[\n",
    "        (df_data_4[col_cursou] == -1) & \n",
    "        (df_data_4[col_reprov] > 0)\n",
    "    ]\n",
    "    print(f\"Número de inconsistências para {col_cursou} (AINDA NAO CURSOU - Reprovações > 0): {len(violacoes_mat1_nao_cursou_reprov)}\")\n",
    "    # assert len(violacoes_mat1_nao_cursou_reprov) == 0, f\"Falha: Encontradas {len(violacoes_mat1_nao_cursou_reprov)} inconsistências para {col_cursou} (AINDA NAO CURSOU - Reprovações > 0).\"\n",
    "    if len(violacoes_mat1_nao_cursou_reprov) > 0: print(violacoes_mat1_nao_cursou_reprov[[col_nota, col_reprov, col_cursou]])\n",
    "\n",
    "    # Checar se a nota imputada para -1 é de fato a média (já testado antes, mas pode ser reforçado)\n",
    "    violacoes_mat1_nao_cursou_nota = df_data_4[\n",
    "        (df_data_4[col_cursou] == -1) &\n",
    "        (~np.isclose(df_data_4[col_nota], media_imputada_mat1))\n",
    "    ]\n",
    "    print(f\"Número de inconsistências para {col_cursou} (AINDA NAO CURSOU - Nota não é a média): {len(violacoes_mat1_nao_cursou_nota)}\")\n",
    "    # assert len(violacoes_mat1_nao_cursou_nota) == 0, f\"Falha: {col_cursou} (AINDA NAO CURSOU) com nota diferente da média imputada.\"\n",
    "    if len(violacoes_mat1_nao_cursou_nota) > 0: print(violacoes_mat1_nao_cursou_nota[[col_nota, col_reprov, col_cursou]])\n",
    "\n",
    "    print(\"Testes de integridade para CURSOU_MAT_X_DESC passaram (verifique os asserts e adapte para outras matérias).\")\n",
    "    # Aluno: Repita essas verificações lógicas para as outras matérias (MAT_2, MAT_3, MAT_4).\n",
    "else:\n",
    "    print(\"DataFrame df_data_4 está vazio. Testes de integridade lógica não podem ser executados.\")"
   ]
  },
  {
   "cell_type": "markdown",
   "id": "9f5d0ec0",
   "metadata": {},
   "source": [
    "--------------------------------------------------------------------------------\n",
    "### Treinando um modelo de classificação\n",
    "O restante do notebook com o treino do modelo pode permanecer. É importante que os alunos reflitam sobre como a qualidade dos dados (verificada e melhorada nas etapas anteriores) impacta o desempenho e a confiabilidade do modelo de Machine Learning."
   ]
  },
  {
   "cell_type": "code",
   "execution_count": 35,
   "id": "a6a4e1ad",
   "metadata": {},
   "outputs": [
    {
     "name": "stdout",
     "output_type": "stream",
     "text": [
      "Acurácia do modelo DecisionTreeClassifier: 68.33%\n"
     ]
    }
   ],
   "source": [
    "if not df_data_4.empty:\n",
    "    # Definição das colunas que serão features (nota-se que a coluna NOME não está presente)\n",
    "    features = [\n",
    "        #\"MATRICULA\", # Geralmente não é uma feature para o modelo em si\n",
    "        \"REPROVACOES_MAT_1\", 'REPROVACOES_MAT_2', \"REPROVACOES_MAT_3\", \"REPROVACOES_MAT_4\",\n",
    "        \"NOTA_MAT_1\", \"NOTA_MAT_2\", \"NOTA_MAT_3\", \"NOTA_MAT_4\",\n",
    "        \"INGLES\", \"H_AULA_PRES\", \"TAREFAS_ONLINE\", \"FALTAS\", \n",
    "        # As colunas CURSOU_MATX_DESC são representações do estado do aluno, podem ou não ser usadas como features\n",
    "        # Se usadas, as notas originais para 'AINDA NAO CURSOU' foram alteradas, o que deve ser considerado.\n",
    "        # Para este exemplo, vamos usar as notas já tratadas e as reprovações.\n",
    "        # Poderia ser interessante testar o modelo com e sem as colunas CURSOU_MATX_DESC como features.\n",
    "        'CURSOU_MAT1_DESC', 'CURSOU_MAT2_DESC', 'CURSOU_MAT3_DESC', 'CURSOU_MAT4_DESC'\n",
    "    ]\n",
    "\n",
    "    # Definição da variável-alvo\n",
    "    target = \"PERFIL\" # Target é uma string, não uma lista de strings para y\n",
    "\n",
    "    # Preparação dos argumentos para os métodos da biblioteca ``scikit-learn``\n",
    "    X = df_data_4[features]\n",
    "    y = df_data_4[target]\n",
    "\n",
    "    # Separação dos dados em um conjunto de treino e um conjunto de teste\n",
    "    X_train, X_test, y_train, y_test = train_test_split(X, y, test_size=0.3, random_state=337, stratify=y) # Adicionado stratify\n",
    "\n",
    "    # Criação de uma árvore de decisão com a biblioteca ``scikit-learn``:\n",
    "    decision_tree = DecisionTreeClassifier(random_state=337)\n",
    "\n",
    "    # Treino do modelo (é chamado o método *fit()* com os conjuntos de treino)\n",
    "    decision_tree.fit(X_train, y_train)\n",
    "\n",
    "    # Realização de teste cego no modelo criado\n",
    "    y_pred = decision_tree.predict(X_test)\n",
    "\n",
    "    # Acurácia alcançada pela árvore de decisão\n",
    "    acc = accuracy_score(y_test, y_pred)\n",
    "    print(f\"Acurácia do modelo DecisionTreeClassifier: {100*round(acc, 4)}%\")\n",
    "else:\n",
    "    print(\"DataFrame df_data_4 está vazio. Treinamento do modelo não pode ser executado.\")"
   ]
  },
  {
   "cell_type": "markdown",
   "id": "e81a056f",
   "metadata": {},
   "source": [
    "#### SALVA RESULTADO TRANSFORMADO"
   ]
  },
  {
   "cell_type": "code",
   "execution_count": 36,
   "id": "c93165fa",
   "metadata": {},
   "outputs": [
    {
     "name": "stdout",
     "output_type": "stream",
     "text": [
      "\n",
      "DataFrame transformado (df_data_4) salvo em 'curso_ml_transformado.csv'\n"
     ]
    }
   ],
   "source": [
    "# Salva em CSV os dados preparados (df_data_4):\n",
    "if not df_data_4.empty:\n",
    "    try:\n",
    "        df_data_4.to_csv(\"curso_ml_transformado.csv\", encoding='utf-8-sig', index=False)\n",
    "        print(\"\\nDataFrame transformado (df_data_4) salvo em 'curso_ml_transformado.csv'\")\n",
    "    except Exception as e:\n",
    "        print(f\"Erro ao salvar o arquivo CSV: {e}\")\n",
    "else:\n",
    "    print(\"DataFrame df_data_4 está vazio. Nada para salvar.\")"
   ]
  },
  {
   "cell_type": "markdown",
   "id": "e338aa3c",
   "metadata": {},
   "source": [
    "### Gabarito que será usado na correção  (Itens a Conferir no preenchimento dos alunos)\n",
    "\n",
    "Ao avaliar o trabalho dos alunos, você pode verificar os seguintes pontos em cada seção de testes que eles completarem:\n",
    "\n",
    "* **Compreensão do Objetivo do Teste:** O aluno demonstrou entender o propósito de cada tipo de teste (Schema, Volume, Valores, etc.)? A descrição ou os comentários no código refletem esse entendimento?\n",
    "* **Aplicação ao Dataset:** O aluno aplicou o teste corretamente ao dataset `curso.csv` e às transformações específicas realizadas no notebook? Os exemplos escolhidos para testar (e.g., coluna `MATRICULA` para unicidade, `PERFIL` para valores) são relevantes para `df_data_1`, `df_data_2`, `df_data_3` e `df_data_4` conforme a etapa?\n",
    "* **Correção da Lógica de Teste:** O código Python implementado está correto para realizar a verificação proposta? Ele identifica potenciais problemas nos dados? Foram usados `asserts` de forma eficaz?\n",
    "* **Utilização de Ferramentas Adequadas:** O aluno utilizou métodos apropriados do pandas ou numpy para realizar as verificações (e.g., `.columns`, `.dtypes`, `len()`, `.unique()`, `.isin()`, `.min()`, `.max()`, `.is_unique`, `.isnull().sum()`, filtragem booleana, `np.isclose()`)?\n",
    "* **Cobertura:** O aluno tentou aplicar os testes em colunas ou aspectos relevantes dos dados originais e, crucialmente, nos dados transformados e nas novas colunas criadas? (Por exemplo, testar os valores possíveis de `CURSOU_MAT_X_DESC` e a consistência entre `NOTA_MAT_X`, `REPROVACOES_MAT_X` e `CURSOU_MAT_X_DESC` após a transformação).\n",
    "* **Clareza do Código e Comentários:** O código é legível e bem comentado? Fica claro qual teste está sendo realizado e o que ele verifica?\n",
    "* **Interpretação dos Resultados:** O aluno comentou sobre os resultados dos testes, especialmente se alguma anomalia ou falha de asserção (se ativada) foi encontrada? Ele consegue explicar o que um resultado inesperado significa?\n",
    "* **Adaptação dos Exemplos:** O aluno foi além de apenas descomentar os exemplos, adaptando-os ou adicionando novos testes relevantes para as colunas e transformações específicas?\n",
    "* **Tratamento de Erros/Casos Limites:** O aluno considerou casos como DataFrames vazios ou colunas não existentes ao escrever seus testes (embora o template já ajude com isso)?\n",
    "* **Reflexão (Opcional):** Em alguns casos (especialmente Integridade Referencial), o aluno identificou nuances ou ambiguidades na regra de negócio ou nos dados brutos (como a questão do valor 0 em `NOTA_MAT_X` que pode significar \"não cursou\" ou \"reprovou com nota zero\" antes das transformações explícitas) e ajustou o teste ou comentou sobre isso?"
   ]
  }
 ],
 "metadata": {
  "kernelspec": {
   "display_name": "Python 3 (ipykernel)",
   "language": "python",
   "name": "python3"
  },
  "language_info": {
   "codemirror_mode": {
    "name": "ipython",
    "version": 3
   },
   "file_extension": ".py",
   "mimetype": "text/x-python",
   "name": "python",
   "nbconvert_exporter": "python",
   "pygments_lexer": "ipython3",
   "version": "3.8.10"
  }
 },
 "nbformat": 4,
 "nbformat_minor": 5
}
